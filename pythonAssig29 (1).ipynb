{
 "cells": [
  {
   "cell_type": "code",
   "execution_count": null,
   "id": "c79c34f2-97a6-43ef-b347-6ac1b919f373",
   "metadata": {},
   "outputs": [],
   "source": [
    "1.WHO DEVELOPED PYTHON PROGRAMING LANGUAGE?\n",
    "  guido van rossum"
   ]
  },
  {
   "cell_type": "code",
   "execution_count": null,
   "id": "7da8b25d-70d6-4ad2-8c4b-949aae0c03f7",
   "metadata": {},
   "outputs": [],
   "source": [
    "2. Which type of Programming does Python support? \n",
    "      Object oriented programming and structured programming. "
   ]
  },
  {
   "cell_type": "code",
   "execution_count": null,
   "id": "52e565fc-5dad-497b-83f6-b6d86f668b49",
   "metadata": {},
   "outputs": [],
   "source": [
    "3. Is Python case sensitive when dealing with identifiers? \n",
    "       yes, python is a case sensitive language"
   ]
  },
  {
   "cell_type": "code",
   "execution_count": null,
   "id": "50c9774b-be75-4c8e-8c93-4b50c0c61812",
   "metadata": {},
   "outputs": [],
   "source": [
    "4. What is the correct extension of the Python file? \n",
    "       .py"
   ]
  },
  {
   "cell_type": "code",
   "execution_count": null,
   "id": "4f00052b-fa1f-4b89-b599-ba9f6f4b5a2a",
   "metadata": {},
   "outputs": [],
   "source": [
    "5. Is Python code compiled or interpreted?\n",
    "     interpreted"
   ]
  },
  {
   "cell_type": "code",
   "execution_count": null,
   "id": "0e03a505-462e-44df-beab-bf2c6fc47550",
   "metadata": {},
   "outputs": [],
   "source": [
    "6. Name a few blocks of code used to define in Python language? \n",
    "       a module,a function body, and a class definition."
   ]
  },
  {
   "cell_type": "code",
   "execution_count": null,
   "id": "231dd601-b62f-4459-ac4e-641d5b2c33c7",
   "metadata": {},
   "outputs": [],
   "source": [
    "7. State a character used to give single-line comments in Python?\n",
    "      (#)is used to comment the single line "
   ]
  },
  {
   "cell_type": "code",
   "execution_count": null,
   "id": "e6a511a3-c41a-48a5-84a5-b58dc4e14a60",
   "metadata": {},
   "outputs": [],
   "source": [
    "8. Mention functions which can help us to find the version of python that we are currently working on? \n",
    "       The function sys. version can help us to find the version of python that we are currently working on."
   ]
  },
  {
   "cell_type": "code",
   "execution_count": null,
   "id": "c6de113c-5e0a-4e36-8201-bb677f9c2a1d",
   "metadata": {},
   "outputs": [],
   "source": [
    "9. Python supports the creation of anonymous functions at runtime, using a construct called \n",
    "     lambda"
   ]
  },
  {
   "cell_type": "code",
   "execution_count": null,
   "id": "397a5074-05e8-49f5-8ec1-95beb1bd91c4",
   "metadata": {},
   "outputs": [],
   "source": [
    "10. What does pip stand for python? \n",
    "    preferred installer program"
   ]
  },
  {
   "cell_type": "code",
   "execution_count": null,
   "id": "c8ad8872-0c01-4f1e-bde2-4b322fe3b74f",
   "metadata": {},
   "outputs": [],
   "source": [
    "11. Mention a few built-in functions in python?\n",
    "   print(),type(),input() etc"
   ]
  },
  {
   "cell_type": "code",
   "execution_count": null,
   "id": "4c88aed2-d532-486c-9551-c0da3d3215ae",
   "metadata": {},
   "outputs": [],
   "source": [
    "12. What is the maximum possible length of an identifier in Python? \n",
    "       79 "
   ]
  },
  {
   "cell_type": "code",
   "execution_count": null,
   "id": "dbde901a-113e-46d0-841a-a9918c9ced7f",
   "metadata": {},
   "outputs": [],
   "source": [
    "13. What are the benefits of using Python? \n",
    "        it was used in data science,web developent,basic game development,\n",
    "    \n",
    "    wide range of use cases,write less do more."
   ]
  },
  {
   "cell_type": "code",
   "execution_count": null,
   "id": "f494f7aa-c617-4c70-aaea-cd431a806aff",
   "metadata": {},
   "outputs": [],
   "source": [
    "14. How is memory managed in Python? \n",
    "     memory in python is managed by python private heap space"
   ]
  },
  {
   "cell_type": "code",
   "execution_count": null,
   "id": "768d081b-69d1-4d03-a6ae-80f5d88ffa28",
   "metadata": {},
   "outputs": [],
   "source": [
    "15. How to install Python on Windows and set path variables?\n",
    "     \n",
    "    Right-clicking This PC and going to Properties.\n",
    "\n",
    "Clicking on the Advanced system settings in the menu on the left.\n",
    "\n",
    "Clicking on the Environment Variables button on the bottom right.\n",
    "\n",
    "In the System variables section, selecting the Path variable and clicking on Edit. The next screen will show all the directories that are currently a part of the PATH variable.\n",
    "\n",
    "Clicking on New and entering Python’s install directory. \n",
    " \n",
    "    Python ca now be used directly from the command prompt without having to write its location\n",
    "    "
   ]
  },
  {
   "cell_type": "code",
   "execution_count": null,
   "id": "ea4c6176-9864-45f1-9402-95facf951c71",
   "metadata": {},
   "outputs": [],
   "source": [
    "16. Is indentation required in python?\n",
    "           yes,it define the blocks of statement."
   ]
  }
 ],
 "metadata": {
  "kernelspec": {
   "display_name": "Python 3 (ipykernel)",
   "language": "python",
   "name": "python3"
  },
  "language_info": {
   "codemirror_mode": {
    "name": "ipython",
    "version": 3
   },
   "file_extension": ".py",
   "mimetype": "text/x-python",
   "name": "python",
   "nbconvert_exporter": "python",
   "pygments_lexer": "ipython3",
   "version": "3.10.8"
  }
 },
 "nbformat": 4,
 "nbformat_minor": 5
}
